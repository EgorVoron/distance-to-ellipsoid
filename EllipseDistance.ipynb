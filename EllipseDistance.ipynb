{
  "nbformat": 4,
  "nbformat_minor": 0,
  "metadata": {
    "colab": {
      "name": "EllipseDistance.ipynb",
      "provenance": [],
      "collapsed_sections": []
    },
    "kernelspec": {
      "name": "python3",
      "display_name": "Python 3"
    }
  },
  "cells": [
    {
      "cell_type": "code",
      "metadata": {
        "id": "ZDZ13_pKvQJv",
        "colab_type": "code",
        "colab": {}
      },
      "source": [
        "from sympy.solvers import solve\n",
        "from sympy import Symbol\n",
        "from math import sqrt"
      ],
      "execution_count": null,
      "outputs": []
    },
    {
      "cell_type": "code",
      "metadata": {
        "id": "Hy-4DhBYwSKG",
        "colab_type": "code",
        "colab": {}
      },
      "source": [
        "from sympy import Point3D, Plane, Point2D"
      ],
      "execution_count": null,
      "outputs": []
    },
    {
      "cell_type": "markdown",
      "metadata": {
        "id": "o8QyypMByPAI",
        "colab_type": "text"
      },
      "source": [
        "# 2D"
      ]
    },
    {
      "cell_type": "code",
      "metadata": {
        "id": "gArDNp80wWtn",
        "colab_type": "code",
        "colab": {}
      },
      "source": [
        "def f(x, a, b):\n",
        "    return b*sqrt(1-(x**2/a**2))"
      ],
      "execution_count": null,
      "outputs": []
    },
    {
      "cell_type": "code",
      "metadata": {
        "id": "NvJr7x5UwdXI",
        "colab_type": "code",
        "colab": {}
      },
      "source": [
        "def D(A: Point2D, x: float, a:float, b:float):\n",
        "    return sqrt((x-A.x)**2 + (f(x, a, b) - A.y)**2)"
      ],
      "execution_count": null,
      "outputs": []
    },
    {
      "cell_type": "code",
      "metadata": {
        "id": "9AidKeQcxKbA",
        "colab_type": "code",
        "colab": {}
      },
      "source": [
        "def nearest_point(A: Point2D, a: float, b: float):\n",
        "    if A.y < 0:\n",
        "        A = Point2D(A.x, -A.y)\n",
        "    k=2-(2*b**2)/(a**2)\n",
        "    p=(2*b*A.y)/(a**2)\n",
        "    x = Symbol('x')\n",
        "    answers=solve(-k**2 * x**4 + 4 * A.x * k * x**3+(k**2 * a**2 -4*A.x**2-a**2*p**2) * x**2 -4 * A.x * k * x * a**2+4*A.x**2*a**2, x)\n",
        "    real_answers = [ans for ans in answers if complex(ans).imag == 0.0]\n",
        "    positive_answers = [ans for ans in real_answers if ans > 0]\n",
        "    negative_answers = [ans for ans in real_answers if ans <= 0]\n",
        "    if A.x > 0:\n",
        "        ans = min(positive_answers)\n",
        "    else:\n",
        "        ans = max(negative_answers)\n",
        "    return Point2D(ans, f(ans, a, b))    "
      ],
      "execution_count": null,
      "outputs": []
    },
    {
      "cell_type": "markdown",
      "metadata": {
        "id": "mfi-AbF-yGRb",
        "colab_type": "text"
      },
      "source": [
        "# 3D"
      ]
    },
    {
      "cell_type": "code",
      "metadata": {
        "id": "QyH7YAmKyuGP",
        "colab_type": "code",
        "colab": {}
      },
      "source": [
        "def get_cos(v1, v2):\n",
        "    return abs(v1[0]*v2[0] + v1[1] * v2[1] + v1[2] * v2[2]) / (sqrt(v1[0]**2 + v1[1]**2 + v1[2]**2) * sqrt(v2[0]**2 + v2[1]**2 + v2[2]**2))"
      ],
      "execution_count": null,
      "outputs": []
    },
    {
      "cell_type": "code",
      "metadata": {
        "id": "yZRiBlkiy4ST",
        "colab_type": "code",
        "colab": {}
      },
      "source": [
        "def get_tan(cosine):\n",
        "    return sqrt(1/cosine**2 - 1)"
      ],
      "execution_count": null,
      "outputs": []
    },
    {
      "cell_type": "code",
      "metadata": {
        "id": "beDwXgWLxPIo",
        "colab_type": "code",
        "colab": {}
      },
      "source": [
        "def point3d_to_point2d(C: Point3D, x_0, y_0, z_0):\n",
        "    x_c1 = C.y - y_0\n",
        "    y_c1 = sqrt((C.x - x_0)**2 + (C.z - z_0)**2) if C.z > z_0 else -sqrt((C.x - x_0)**2 + (C.z - z_0)**2) \n",
        "    return Point2D(x_c1, y_c1)"
      ],
      "execution_count": null,
      "outputs": []
    },
    {
      "cell_type": "code",
      "metadata": {
        "id": "X9LRYF4Zzzc1",
        "colab_type": "code",
        "colab": {}
      },
      "source": [
        "def ellipsoid3d_to_ellipse2d(b, x_0, y_0, z_0, C: Point3D):\n",
        "    F = Point3D(x_0, y_0 + b, z_0)\n",
        "    G = Point3D(x_0, y_0 - b, z_0)\n",
        "    new_plane = Plane(F, G, C) # плоскость FGC\n",
        "    cosine = get_cos(new_plane.normal_vector, (0, 0, 1))\n",
        "    tan = get_tan(cosine)\n",
        "    a1 = b\n",
        "    b1 = sqrt(a**2*c**2/(a**2*tan**2 + c**2) + tan**2 * (a**2*c**2/(a**2*tan**2 + c**2)))\n",
        "    return a1, b1"
      ],
      "execution_count": null,
      "outputs": []
    },
    {
      "cell_type": "code",
      "metadata": {
        "id": "VFZO09mazZMV",
        "colab_type": "code",
        "colab": {}
      },
      "source": [
        "def distance_3d(C: Point3D, a, b, c, x_0, y_0, z_0):\n",
        "    C1 = point3d_to_point2d(C, x_0, y_0, z_0)\n",
        "    if C1.y < 0:\n",
        "        C1 = Point2D(C1.x, -C1.y)\n",
        "    a1, b1 = ellipsoid3d_to_ellipse2d(b, x_0, y_0, z_0, C)\n",
        "    Q = nearest_point(C1, a1, b1)\n",
        "    return D(C1, Q.x, a1, b1)"
      ],
      "execution_count": null,
      "outputs": []
    },
    {
      "cell_type": "markdown",
      "metadata": {
        "id": "Ag0ticld013f",
        "colab_type": "text"
      },
      "source": [
        "# Run"
      ]
    },
    {
      "cell_type": "code",
      "metadata": {
        "id": "I_mmvln7yTmm",
        "colab_type": "code",
        "colab": {}
      },
      "source": [
        "a = 1.2; b = 2.2; c = 0.9\n",
        "x_0 = 2; y_0 = 3; z_0 = 5\n",
        "C = Point3D(-3.36621,3.99043,3.29805)"
      ],
      "execution_count": null,
      "outputs": []
    },
    {
      "cell_type": "code",
      "metadata": {
        "id": "tmStoi1C0f4w",
        "colab_type": "code",
        "colab": {
          "base_uri": "https://localhost:8080/",
          "height": 34
        },
        "outputId": "343b1e7c-e569-4250-8684-e4263dd3fb55"
      },
      "source": [
        "distance_3d(C, a, b, c, x_0, y_0, z_0)"
      ],
      "execution_count": null,
      "outputs": [
        {
          "output_type": "execute_result",
          "data": {
            "text/plain": [
              "4.526927941010154"
            ]
          },
          "metadata": {
            "tags": []
          },
          "execution_count": 12
        }
      ]
    },
    {
      "cell_type": "code",
      "metadata": {
        "id": "ibzksjZC5Nai",
        "colab_type": "code",
        "colab": {}
      },
      "source": [
        ""
      ],
      "execution_count": null,
      "outputs": []
    }
  ]
}